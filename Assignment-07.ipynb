{
  "cells": [
    {
      "cell_type": "markdown",
      "metadata": {
        "id": "oMYzsTcnHEll"
      },
      "source": [
        "# CSE110 Lab Assignment 7 on Sorting and Searching\n",
        "\n",
        "Write your name, student id and CSE110 section below:\n"
      ]
    },
    {
      "cell_type": "code",
      "execution_count": null,
      "metadata": {
        "id": "ljd7OxU2gvWb"
      },
      "outputs": [],
      "source": [
        "#STUDENT NAME:Faisal Ahmed\n",
        "#STUDENT ID:21301186\n",
        "#CSE110 SECTION:09"
      ]
    },
    {
      "cell_type": "markdown",
      "metadata": {
        "id": "jT-t2zlnHEll"
      },
      "source": [
        "## Write the Python code for the following problems:\n",
        "**<font color='red'>[MUST MAINTAIN VARIABLE NAMING CONVENTIONS FOR ALL THE TASKS]</font>**\n",
        "\n",
        "### Task 1\n",
        "\n",
        "Suppose you have a list named my_list as given below. <br/>\n",
        "my_list = [10,1,20,3,6,2,5,11,15,2,12,14,17,18,29] <br/>\n",
        "Now use bubble sort to sort my_list into ascending order.\n",
        "\n",
        "**Output**<br/>\n",
        "[1, 2, 2, 3, 5, 6, 10, 11, 12, 14, 15, 17, 18, 20, 29]"
      ]
    },
    {
      "cell_type": "code",
      "execution_count": null,
      "metadata": {
        "id": "7qXVakLgHElm",
        "outputId": "2a6528ac-e9b5-48ac-97a7-419e1359c641"
      },
      "outputs": [
        {
          "name": "stdout",
          "output_type": "stream",
          "text": [
            "[1, 2, 2, 3, 5, 6, 10, 11, 12, 14, 15, 17, 18, 20, 29]\n"
          ]
        }
      ],
      "source": [
        "my_list = [10,1,20,3,6,2,5,11,15,2,12,14,17,18,29]\n",
        "for i in range(len(my_list)-1):\n",
        "    for j in range(0,len(my_list)-i-1):\n",
        "        if my_list[j] > my_list[j+1]:\n",
        "            temp = my_list[j]\n",
        "            my_list[j] = my_list[j+1]\n",
        "            my_list[j+1] = temp\n",
        "print(my_list)\n",
        "\n"
      ]
    },
    {
      "cell_type": "markdown",
      "metadata": {
        "id": "w1QgeWd2HElp"
      },
      "source": [
        "### Task 2\n",
        "\n",
        "Suppose you have a list named my_list as given below. <br/>\n",
        "my_list = [10,1,20,3,6,2,5,11,15,2,12,14,17,18,29] <br/>\n",
        "Now use selection sort to sort my_list into ascending order.\n",
        "\n",
        "**Output**<br/>\n",
        "[1, 2, 2, 3, 5, 6, 10, 11, 12, 14, 15, 17, 18, 20, 29]\n",
        "\n"
      ]
    },
    {
      "cell_type": "code",
      "execution_count": null,
      "metadata": {
        "id": "am0B_8ICHElq",
        "outputId": "cddf60cb-3080-4963-8fe5-010a4acf05e4"
      },
      "outputs": [
        {
          "name": "stdout",
          "output_type": "stream",
          "text": [
            "[1, 2, 2, 3, 5, 6, 10, 11, 12, 14, 15, 17, 18, 20, 29]\n"
          ]
        }
      ],
      "source": [
        "my_list = [10,1,20,3,6,2,5,11,15,2,12,14,17,18,29]\n",
        "for i in range(len(my_list)):\n",
        "    min_index = i\n",
        "    for j in range(i+1,len(my_list)):\n",
        "        if my_list[j] < my_list[min_index]:\n",
        "            min_index = j\n",
        "    temp = my_list[min_index]\n",
        "    my_list[min_index] = my_list[i]\n",
        "    my_list[i] = temp\n",
        "print(my_list)\n"
      ]
    },
    {
      "cell_type": "markdown",
      "metadata": {
        "id": "j4ffr2CAHElt"
      },
      "source": [
        "### Task  3\n",
        "\n",
        "Suppose you have a list named my_list as given below <br/>\n",
        "my_list=[10,1,20,3,6,2,5,11,15,2,12,14,17,18,29] <br/>\n",
        "Now use any of the two sorting techniques you have used above to sort the list in descending order.\n",
        "\n",
        "**Output**<br/>\n",
        "[29, 20, 18, 17, 15, 14, 12, 11, 10, 6, 5, 3, 2, 2, 1]\n"
      ]
    },
    {
      "cell_type": "code",
      "execution_count": null,
      "metadata": {
        "id": "n2X3YR-_HElt",
        "outputId": "addf81c4-38da-41e9-da79-0d83a666d082"
      },
      "outputs": [
        {
          "name": "stdout",
          "output_type": "stream",
          "text": [
            "[29, 20, 18, 17, 15, 14, 12, 11, 10, 6, 5, 3, 2, 2, 1]\n"
          ]
        }
      ],
      "source": [
        "my_list = [10,1,20,3,6,2,5,11,15,2,12,14,17,18,29]\n",
        "for i in range(len(my_list)):\n",
        "    max_index = i\n",
        "    for j in range(i+1,len(my_list)):\n",
        "        if my_list[j] > my_list[max_index]:\n",
        "            max_index = j\n",
        "    temp = my_list[max_index]\n",
        "    my_list[max_index] = my_list[i]\n",
        "    my_list[i] = temp\n",
        "print(my_list)"
      ]
    },
    {
      "cell_type": "markdown",
      "metadata": {
        "id": "9iYiiTWWHElw"
      },
      "source": [
        "### Task 4\n",
        "\n",
        "Suppose you have a sitting arrangement of the students who will give the final exam in a list. The list contains the last two digits of their student ID as given below.<br/>\n",
        "\n",
        "sitting_list = [10,30,20,70,11,15,22,16,58,100,12,56,70,80] <br/>\n",
        "\n",
        "Now you want to organize the sitting arrangement of the students in your own way. You decide to sort all the students in the even indices of the list in ascending order and all the students in the odd indices of the list in descending order.  <br/>\n",
        "\n",
        "So, write a python program that organizes the list for you in this way.<br/>\n",
        "\n",
        "\n",
        "**Sample Output**<br/>\n",
        "[10, 100, 11, 80, 12, 70, 20, 56, 22, 30, 58, 16, 70, 15]"
      ]
    },
    {
      "cell_type": "code",
      "execution_count": null,
      "metadata": {
        "id": "nPdUAKDJHElw",
        "outputId": "2f0f3eb9-93c3-41e6-f348-0383b1a4832a"
      },
      "outputs": [
        {
          "name": "stdout",
          "output_type": "stream",
          "text": [
            "[10, 100, 11, 80, 12, 70, 20, 56, 22, 30, 58, 16, 70, 15]\n"
          ]
        }
      ],
      "source": [
        "arr = [10,30,20,70,11,15,22,16,58,100,12,56,70,80]\n",
        "for i in range(0,len(arr),2):\n",
        "    for j in range(0,len(arr)-2,2):\n",
        "        if arr[j] > arr[j+2]:\n",
        "            temp = arr[j]\n",
        "            arr[j] = arr[j+2]\n",
        "            arr[j+2] = temp\n",
        "for i in range(1,len(arr),2):\n",
        "    for j in range(1,len(arr)-2,2):\n",
        "        if arr[j] < arr[j+2]:\n",
        "            temp = arr[j]\n",
        "            arr[j] = arr[j+2]\n",
        "            arr[j+2] = temp\n",
        "print(arr)"
      ]
    },
    {
      "cell_type": "markdown",
      "metadata": {
        "id": "oVR1Tsa0HElz"
      },
      "source": [
        "### Task 5\n",
        "\n",
        "Suppose a list contains marks earned in the courses CSE110, PHY111, and MAT110 of each student consecutively in a nested list form. Your task is to take a course name as input from the user and sort the list based on the marks obtained in that course in order to finally print the names of the students in descending order of marks obtained i.e. from the student who earned the highest marks to the student who earned the lowest. <br/>\n",
        "\n",
        "For example, the list may look like <br/>\n",
        "lst = [ [\"Alan\", 95, 87, 91], [\"Turing\", 92, 90, 83], [\"Elon\", 87, 92, 80], [\"Musk\", 85, 94, 90] ] <br/>\n",
        "where for each nested list, 1st index holds the name of the student, 2nd index is total marks earned in the CSE110 course, 3rd index is PHY111 marks and 4th index is MAT110 marks.\n",
        "\n",
        "=====================================================\n",
        "\n",
        "**Hint:**<br/>\n",
        "You may create a function for sorting, then call it every time when needed instead of rewriting the code.\n",
        "\n",
        "You may get the data in the individual lists from the given nested list.\n",
        "\n",
        "=====================================================\n",
        "\n",
        "**Sample Input 1**<br/>\n",
        "MAT110\n",
        "\n",
        "**Sample Output 1**<br/>\n",
        "Alan <br/>\n",
        "Musk <br/>\n",
        "Turing <br/>\n",
        "Elon\n",
        "\n",
        "**Explanation:**<br/>\n",
        "Here the user gives us \"MAT110\" as the course name. Now, the students Alan, Turing, Elon and Musk earned 91, 83, 80 and 90 marks respectively in this course. If we sort it, Alan got the highest marks of 91 followed by Musk with 90 marks and Turing with 83 marks. Among these 4 students, Elon obtained the lowest marks in the MAT110 course with 80 marks. All of these has been illustrated in our sample output.\n",
        "\n",
        "=====================================================\n",
        "\n",
        "**Sample Input 2**<br/>\n",
        "PHY111\n",
        "\n",
        "**Sample Output 2**<br/>\n",
        "Musk <br/>\n",
        "Elon <br/>\n",
        "Turing <br/>\n",
        "Alan"
      ]
    },
    {
      "cell_type": "code",
      "execution_count": 1,
      "metadata": {
        "id": "539b2P1NHElz",
        "colab": {
          "base_uri": "https://localhost:8080/"
        },
        "outputId": "72d33fed-dd07-41ce-b4ab-196b2c9075af"
      },
      "outputs": [
        {
          "output_type": "stream",
          "name": "stdout",
          "text": [
            "PHY111\n",
            "Musk\n",
            "Elon\n",
            "Turing\n",
            "Alan\n"
          ]
        }
      ],
      "source": [
        "def sorting(lists,course):\n",
        "    name = []\n",
        "    numbers =[]\n",
        "    if (course == \"CSE110\"):\n",
        "        for i in range(len(lists)):\n",
        "            name.append(lists[i][0])\n",
        "            numbers.append(lists[i][1])\n",
        "    if (course == \"PHY111\"):\n",
        "        for i in range(len(lists)):\n",
        "            name.append(lists[i][0])\n",
        "            numbers.append(lists[i][2])\n",
        "    if (course == \"MAT110\"):\n",
        "        for i in range(len(lists)):\n",
        "            name.append(lists[i][0])\n",
        "            numbers.append(lists[i][3])\n",
        "    for i in range(len(numbers)):\n",
        "        for j in range(0,len(numbers)-1):\n",
        "            if numbers[j] < numbers[j+1]:\n",
        "                temp = numbers[j]\n",
        "                numbers[j] = numbers[j+1]\n",
        "                numbers[j+1] = temp\n",
        "                temp = name[j]\n",
        "                name[j] = name[j+1]\n",
        "                name[j+1] = temp\n",
        "    for k in name:\n",
        "        print(k)\n",
        "lists = [ [\"Alan\", 95, 87, 91], [\"Turing\", 92, 90, 83], [\"Elon\", 87, 92, 80], [\"Musk\", 85, 94, 90] ]\n",
        "course = input()\n",
        "sorting(lists,course)"
      ]
    },
    {
      "cell_type": "markdown",
      "metadata": {
        "id": "B0Rqbyi4HEl2"
      },
      "source": [
        "### Task 6\n",
        "\n",
        "Suppose you have a list named my_list as given below. Your task is to sort the list in ascending order and print the count of numbers that have changed their positions in the process of sorting. <br/>\n",
        "\n",
        "my_list = [4, 2, 3, 1, 6, 5] <br/>\n",
        "\n",
        "Sorted list would be [1, 2, 3, 4, 5, 6] where 4 numbers (4, 1, 6 and 5) have changed their positions. Therefore our sample output here would be 4. Please check if your code is working correctly by changing the above list and using the knowledge given here to verify whether your code gives correct output for all different lists.\n",
        "\n",
        "\n",
        "**Sample Output for the above list**<br/>\n",
        "4"
      ]
    },
    {
      "cell_type": "code",
      "execution_count": 2,
      "metadata": {
        "id": "AMc8jAa7HEl2",
        "colab": {
          "base_uri": "https://localhost:8080/"
        },
        "outputId": "ecbc5787-723a-4a98-e7da-aa5a46e1ce6d"
      },
      "outputs": [
        {
          "output_type": "stream",
          "name": "stdout",
          "text": [
            "Number of elements changed their positions: 4\n"
          ]
        }
      ],
      "source": [
        "my_list = [4, 2, 3, 1, 6, 5]\n",
        "count = 0\n",
        "for i in range(len(my_list)-1):\n",
        "    min_index = i\n",
        "    min_value = my_list[i]\n",
        "    for j in range(i+1,len(my_list)):\n",
        "        if (my_list[j] < my_list[min_index]):\n",
        "            min_index = j\n",
        "            min_value = my_list[j]\n",
        "    if my_list[i] != my_list[min_index]:\n",
        "        temp = my_list[i]\n",
        "        my_list[i] = my_list[min_index]\n",
        "        my_list[min_index] = temp\n",
        "        count = count + 1\n",
        "print(\"Number of elements changed their positions:\",count*2)\n",
        "\n",
        ""
      ]
    },
    {
      "cell_type": "markdown",
      "metadata": {
        "id": "iIH5n0sJHEl5"
      },
      "source": [
        "### Task 7\n",
        "\n",
        "Write a python program that takes two lists from the user, merges the two lists, sorts the resulting list, and then finds the median of the elements in the two lists.\n",
        "\n",
        "=====================================================\n",
        "\n",
        "\n",
        "**Sample Input 1**<br/>\n",
        "list_one = [1, 2, 1, 4] <br/>\n",
        "list_two = [5, 4, 1]\n",
        "\n",
        "\n",
        "**Sample Output 1**<br/>\n",
        "Sorted list = [1, 1, 1, 2, 4, 4, 5] <br/>\n",
        "Median = 2\n",
        "\n",
        "=====================================================\n",
        "\n",
        "\n",
        "**Sample Input 2**<br/>\n",
        "list_one = [1, 7, 9, 10] <br/>\n",
        "list_two = [2, 7, 6, 5]\n",
        "\n",
        "\n",
        "**Sample Output 2**<br/>\n",
        "Sorted list = [1, 2, 5, 6, 7, 7, 9, 10] <br/>\n",
        "Median = 6.5\n",
        "\n"
      ]
    },
    {
      "cell_type": "code",
      "execution_count": 4,
      "metadata": {
        "id": "KsFxC7XbHEl6",
        "colab": {
          "base_uri": "https://localhost:8080/"
        },
        "outputId": "c27c8bda-8334-42b3-97d9-62715b1a0137"
      },
      "outputs": [
        {
          "output_type": "stream",
          "name": "stdout",
          "text": [
            "Enter the first list (e.g., [1, 2, 1, 4]): [1, 7, 9, 10]\n",
            "Enter the second list (e.g., [5, 4, 1]): [2, 7, 6, 5]\n",
            "Sorted list = [1, 2, 5, 6, 7, 7, 9, 10]\n",
            "Median = 6.5\n"
          ]
        }
      ],
      "source": [
        "list_one = input(\"Enter the first list (e.g., [1, 2, 1, 4]): \")\n",
        "list_two = input(\"Enter the second list (e.g., [5, 4, 1]): \")\n",
        "\n",
        "\n",
        "list_one = eval(list_one)\n",
        "list_two = eval(list_two)\n",
        "\n",
        "\n",
        "new_list = list_one + list_two\n",
        "\n",
        "new_list.sort()\n",
        "\n",
        "print(\"Sorted list =\", new_list)\n",
        "\n",
        "\n",
        "length = len(new_list)\n",
        "if length % 2 == 0:\n",
        "    first = new_list[(length // 2) - 1]\n",
        "    second = new_list[(length // 2)]\n",
        "    median = (first + second) / 2\n",
        "else:\n",
        "    median = new_list[length // 2]\n",
        "\n",
        "\n",
        "print(\"Median =\", median)\n"
      ]
    },
    {
      "cell_type": "markdown",
      "metadata": {
        "id": "-XKiwBR1HEl8"
      },
      "source": [
        "### Task 8\n",
        "\n",
        "\n",
        "Write a python program that takes a list from user containing both positive and negative numbers. The program then finds two pairs of values whose summation is closest to zero.\n",
        "\n",
        "=====================================================\n",
        "\n",
        "**Sample Input 1**<br/>\n",
        "list_one = [-10, 15, 2, 4, -4, 7, -8]\n",
        "\n",
        "\n",
        "**Sample Output 1**<br/>\n",
        "Two pairs which have the smallest sum = 4 and -4\n",
        "\n",
        "=====================================================\n",
        "\n",
        "\n",
        "**Sample Input 2**<br/>\n",
        "list_one = [1, -8, 4, -7, -20, 26, 70, -85]\n",
        "\n",
        "\n",
        "**Sample Output 2**<br/>\n",
        "Two pairs which have the smallest sum = 4 and -7"
      ]
    },
    {
      "cell_type": "code",
      "execution_count": 5,
      "metadata": {
        "id": "5ORSGa5GHEl9",
        "colab": {
          "base_uri": "https://localhost:8080/"
        },
        "outputId": "bfe08e4f-5cf9-4ac1-e41c-e90c98a9352d"
      },
      "outputs": [
        {
          "output_type": "stream",
          "name": "stdout",
          "text": [
            "[1, -8, 4, -7, -20, 26, 70, -85]\n",
            "Two pairs which have the smallest sum = 4 and -7\n"
          ]
        }
      ],
      "source": [
        "listt = eval(input())\n",
        "min_sum = abs(listt[0]+listt[1])\n",
        "x = 0\n",
        "y = 0\n",
        "summ = 10000\n",
        "for i in range(len(listt)):\n",
        "    for j in range(len(listt)-1):\n",
        "        if i != j:\n",
        "            summ = abs(listt[i] + listt[j])\n",
        "        if (summ<min_sum):\n",
        "            min_sum = summ\n",
        "            x = listt[i]\n",
        "            y = listt[j]\n",
        "print(\"Two pairs which have the smallest sum =\",x,\"and\",y)\n",
        ""
      ]
    }
  ],
  "metadata": {
    "colab": {
      "provenance": []
    },
    "kernelspec": {
      "display_name": "Python 3",
      "language": "python",
      "name": "python3"
    },
    "language_info": {
      "codemirror_mode": {
        "name": "ipython",
        "version": 3
      },
      "file_extension": ".py",
      "mimetype": "text/x-python",
      "name": "python",
      "nbconvert_exporter": "python",
      "pygments_lexer": "ipython3",
      "version": "3.9.0"
    }
  },
  "nbformat": 4,
  "nbformat_minor": 0
}