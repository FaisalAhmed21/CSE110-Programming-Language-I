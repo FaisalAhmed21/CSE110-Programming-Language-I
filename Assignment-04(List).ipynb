{
  "cells": [
    {
      "cell_type": "markdown",
      "metadata": {
        "id": "xDNsncrtU1yM"
      },
      "source": [
        "# CSE110 Lab Assignment 4\n",
        "\n",
        "This Assignment is to help you develop your concept of Lists in Python."
      ]
    },
    {
      "cell_type": "markdown",
      "metadata": {
        "id": "gh4GUDaIU1yO"
      },
      "source": [
        "\n",
        "\n",
        "\n",
        "\n",
        "\n",
        "\n",
        "##Write your name, student ID and CSE110 theory section number below:\n",
        "\n",
        "\n",
        "\n",
        "\n",
        "\n"
      ]
    },
    {
      "cell_type": "code",
      "execution_count": null,
      "metadata": {
        "id": "OAYfzLIqgqyE"
      },
      "outputs": [],
      "source": [
        "#STUDENT NAME:Faisal Ahmed\n",
        "#STUDENT ID:21301186\n",
        "#CSE110 THEORY SECTION:09"
      ]
    },
    {
      "cell_type": "markdown",
      "metadata": {
        "id": "KD4EKJf6U1yQ"
      },
      "source": [
        "## Write the code in Python to do the following tasks:\n",
        "\n",
        "**<font color='red'>[MUST MAINTAIN VARIABLE NAMING CONVENTIONS FOR ALL THE TASKS]</font>**"
      ]
    },
    {
      "cell_type": "markdown",
      "metadata": {
        "id": "pbdeIVcyU1yi"
      },
      "source": [
        "### Task 1\n",
        "Write a Python program that reads 10 numbers from the user into a list. After reading each number, print all the numbers that have been entered so far in the list.\n",
        "\n",
        "**Example:**\\\n",
        "After the user enters 3, prints “Numbers in the list: [3]”\\\n",
        "After the user enters 5, prints “Numbers in the list: [3, 5]”\\\n",
        "After the user enters 34, prints “Numbers in the list: [3, 5, 34]”\\\n",
        ".... and so on"
      ]
    },
    {
      "cell_type": "code",
      "execution_count": 1,
      "metadata": {
        "id": "A5df9pmJU1yj",
        "colab": {
          "base_uri": "https://localhost:8080/"
        },
        "outputId": "7d2b0067-51e7-4c3b-b949-39d3f5706653"
      },
      "outputs": [
        {
          "output_type": "stream",
          "name": "stdout",
          "text": [
            "3\n",
            "Numbers in the list: [3]\n",
            "5\n",
            "Numbers in the list: [3, 5]\n",
            "34\n",
            "Numbers in the list: [3, 5, 34]\n",
            "32\n",
            "Numbers in the list: [3, 5, 34, 32]\n",
            "6\n",
            "Numbers in the list: [3, 5, 34, 32, 6]\n",
            "21\n",
            "Numbers in the list: [3, 5, 34, 32, 6, 21]\n",
            "85\n",
            "Numbers in the list: [3, 5, 34, 32, 6, 21, 85]\n",
            "94\n",
            "Numbers in the list: [3, 5, 34, 32, 6, 21, 85, 94]\n",
            "7\n",
            "Numbers in the list: [3, 5, 34, 32, 6, 21, 85, 94, 7]\n",
            "10\n",
            "Numbers in the list: [3, 5, 34, 32, 6, 21, 85, 94, 7, 10]\n"
          ]
        }
      ],
      "source": [
        "number = 10\n",
        "listt = []\n",
        "for i in range(number):\n",
        "    x = int(input())\n",
        "    listt.append(x)\n",
        "    print(\"Numbers in the list:\",listt)"
      ]
    },
    {
      "cell_type": "markdown",
      "metadata": {
        "id": "ZrjtT-I_U1zD"
      },
      "source": [
        "### Task 2\n",
        "\n",
        "Write a Python program that takes a list as an input from the user.Then creates a new list excluding the first and last two elements of the given list and prints the new list. If there are not enough elements in the list to do the task, the print \"Not possible\".\n",
        "\n",
        "**Note:** You may use list slicing.\n",
        "\n",
        "===================================================================\n",
        "\n",
        "**Sample Input 1:**<br/>\n",
        "[10, 20, 24, 25, 26, 35, 70]<br/>\n",
        "**Sample Output 1:**<br/>\n",
        "[24, 25, 26]<br/>\n",
        "\n",
        "===================================================================\n",
        "\n",
        "**Sample Input 2:**<br/>\n",
        "[10, 20, 24, 25, 26]<br/>\n",
        "**Sample Output 2:**<br/>\n",
        "[24]<br/>\n",
        "\n",
        "===================================================================\n",
        "\n",
        "**Sample Input 3:**<br/>\n",
        "[10, 20, 24, 25]<br/>\n",
        "**Sample Output 3:**<br/>\n",
        "[]<br/>\n",
        "\n",
        "===================================================================\n",
        "\n",
        "**Sample Input 4:**<br/>\n",
        "[10, 20, 24]<br/>\n",
        "**Sample Output 4:**<br/>\n",
        "Not possible<br/>\n",
        "\n",
        "==================================================================="
      ]
    },
    {
      "cell_type": "code",
      "execution_count": 2,
      "metadata": {
        "id": "3r7Ripj7U1zE",
        "colab": {
          "base_uri": "https://localhost:8080/"
        },
        "outputId": "1f54cbb7-6dbf-45fe-f190-53f49355526b"
      },
      "outputs": [
        {
          "output_type": "stream",
          "name": "stdout",
          "text": [
            "[10, 20, 24, 25, 26]\n",
            "[24]\n"
          ]
        }
      ],
      "source": [
        "x = input()\n",
        "listt = [int(i) for i in x[1:-1].split(\", \")]\n",
        "if len(listt)>=4:\n",
        "    new_list = listt[2:-2]\n",
        "    print(new_list)\n",
        "else:\n",
        "    print(\"Not possible\")\n"
      ]
    },
    {
      "cell_type": "markdown",
      "metadata": {
        "id": "AWgZaBZCzmaM"
      },
      "source": [
        "### Task 3\n",
        "\n",
        "Write a python program that reads 5 numbers from the user into a list, and then prints them in the reverse order.\n",
        "\n",
        "*Hint: You may create a list to store the input numbers and then use loop to print them in reverse order*\n",
        "\n",
        "===================================================================\n",
        "\n",
        "**Sample Input:**\\\n",
        "5\\\n",
        "-5\\\n",
        "100\\\n",
        "1\\\n",
        "0\n",
        "\n",
        "**Sample Output:**\\\n",
        "0\\\n",
        "1\\\n",
        "100\\\n",
        "-5\\\n",
        "5\n",
        "\n",
        "==================================================================="
      ]
    },
    {
      "cell_type": "code",
      "execution_count": 3,
      "metadata": {
        "id": "ICW-03YOznTp",
        "colab": {
          "base_uri": "https://localhost:8080/"
        },
        "outputId": "1f06682f-cb9a-44ef-d4ea-5f3b54376d64"
      },
      "outputs": [
        {
          "output_type": "stream",
          "name": "stdout",
          "text": [
            "5\n",
            "-5\n",
            "100\n",
            "1\n",
            "0\n",
            "0\n",
            "1\n",
            "100\n",
            "-5\n",
            "5\n"
          ]
        }
      ],
      "source": [
        "number = 5\n",
        "listt = []\n",
        "for i in range(number):\n",
        "    x = int(input())\n",
        "    listt.append(x)\n",
        "listt = listt[::-1]\n",
        "for j in listt:\n",
        "    print(j)\n",
        "\n",
        "\n",
        "\n"
      ]
    },
    {
      "cell_type": "markdown",
      "metadata": {
        "id": "7a_1pYjfU1zI"
      },
      "source": [
        "### Task 4\n",
        "Assume, you have been given two lists. [Your program should work for any two given lists; change the following lists and check whether your program works correctly for the code you have written]\n",
        "\n",
        "list_one = [1, 2, 3, 4, 5, 6, 7, 8, 9]\\\n",
        "list_two = [10, 11, 12, -13, -14, -15, -16]\n",
        "\n",
        "Write a Python program that creates a new list with all the **even elements** of both of the given lists and prints the new list.\n",
        "\n",
        "**Hint:** You may create a third list to store the even elements of the given lists.\n",
        "\n",
        "===================================================================\n",
        "\n",
        "**Output for the above lists:** [2, 4, 6, 8, 10, 12, -14, -16]\n",
        "\n",
        "==================================================================="
      ]
    },
    {
      "cell_type": "code",
      "execution_count": 4,
      "metadata": {
        "id": "vToa7yazU1zI",
        "colab": {
          "base_uri": "https://localhost:8080/"
        },
        "outputId": "13044b56-d756-4684-bda2-a0dd0003456b"
      },
      "outputs": [
        {
          "output_type": "stream",
          "name": "stdout",
          "text": [
            "[2, 4, 6, 8, 10, 12, -14, -16]\n"
          ]
        }
      ],
      "source": [
        "list_one = [1, 2, 3, 4, 5, 6, 7, 8, 9]\n",
        "list_two = [10, 11, 12, -13, -14, -15, -16]\n",
        "list_one.extend(list_two)\n",
        "listt = [i for i in list_one if i%2==0]\n",
        "print(listt)\n"
      ]
    },
    {
      "cell_type": "markdown",
      "metadata": {
        "id": "QaD4hLn92EKT"
      },
      "source": [
        "### Task 5\n",
        "\n",
        "Write a Python program that takes numbers as input into a list, removes multiple occurences of any number and then finally prints a list **without duplicate values**.\n",
        "\n",
        "*Hint: You may create a third list to store the results. You can use membership operators (in, not in) to make sure no duplicates are added.*\n",
        "\n",
        "===================================================================\n",
        "\n",
        "**Sample Input 1:**<br/>\n",
        "0, 0, 1, 2, 3, 4, 4, 5, 6, 6, 6, 7, 8, 9, 4, 4<br/>\n",
        "\n",
        "\n",
        "**Sample Output 1:**<br/>\n",
        "[0, 1, 2, 3, 4, 5, 6, 7, 8, 9]<br/>\n",
        "\n",
        "===================================================================\n",
        "\n",
        "**Sample Input 2:**<br/>\n",
        "7, 7, 7, 1, 0, 3, 3, 55, 9<br/>\n",
        "\n",
        "\n",
        "**Sample Output 2:**<br/>\n",
        "[7, 1, 0, 3, 55, 9]<br/>\n",
        "\n",
        "==================================================================="
      ]
    },
    {
      "cell_type": "code",
      "execution_count": 5,
      "metadata": {
        "id": "EUbQbz5hU1zP",
        "colab": {
          "base_uri": "https://localhost:8080/"
        },
        "outputId": "78da3dec-daf3-4c49-edbf-d2b506589a2c"
      },
      "outputs": [
        {
          "output_type": "stream",
          "name": "stdout",
          "text": [
            "7, 7, 7, 1, 0, 3, 3, 55, 9\n",
            "[7, 1, 0, 3, 55, 9]\n"
          ]
        }
      ],
      "source": [
        "x = input()\n",
        "listt = [int(i) for i in x.split(\", \")]\n",
        "new_listt = []\n",
        "for i in listt:\n",
        "    if i not in new_listt:\n",
        "        new_listt.append(i)\n",
        "print(new_listt)"
      ]
    },
    {
      "cell_type": "markdown",
      "metadata": {
        "id": "wfcSytFVU1zU"
      },
      "source": [
        "### Task 6\n",
        "\n",
        "Write a Python program that reads 5 numbers into a list and prints the largest number and its location or index position on the list. <font color='red'>[You are not allowed to use the max(), sort(), sorted() function here]</font>\n",
        "\n",
        "**Hint:** Assume the first input to be the largest value initially and the largest value’s location to be 0.\n",
        "\n",
        "**Note:** You may need to be careful while printing the output. Depending on your code, you might need data conversion.\n",
        "\n",
        "===================================================================\n",
        "\n",
        "**Sample Input:**\\\n",
        " 7, 13, 2, 10, 6\n",
        "\n",
        "**Sample Output:**\\\n",
        "My list: [7, 13, 2, 10, 6]\\\n",
        "Largest number in the list is 13 which was found at index 1.\n",
        "\n",
        "==================================================================="
      ]
    },
    {
      "cell_type": "code",
      "execution_count": 6,
      "metadata": {
        "id": "kXbEh1t3U1zV",
        "colab": {
          "base_uri": "https://localhost:8080/"
        },
        "outputId": "831271e4-7516-4e3e-c218-78b1188c6d2f"
      },
      "outputs": [
        {
          "output_type": "stream",
          "name": "stdout",
          "text": [
            "7, 13, 2, 10, 6\n",
            "[7, 13, 2, 10, 6]\n",
            "Largest number in the list is 13 which was found at index 1\n"
          ]
        }
      ],
      "source": [
        "x = input()\n",
        "listt = [int(i) for i in x.split(\", \")]\n",
        "print(listt)\n",
        "maximum = listt[0]\n",
        "index = 0\n",
        "for i in range(1,len(listt)):\n",
        "    if(listt[i]>maximum):\n",
        "        maximum = listt[i]\n",
        "        index = i\n",
        "\n",
        "print(\"Largest number in the list is\",maximum,\"which was found at index\",index)\n",
        "\n"
      ]
    },
    {
      "cell_type": "markdown",
      "metadata": {
        "id": "nwRZ3_0tC3fq"
      },
      "source": [
        "### Task 7\n",
        "\n",
        "\n",
        "Assume, you have been given two lists. [Your program should work for any two given lists; make changes to the lists below and check whether your program works correctly]\n",
        "\n",
        "list_one = [1, 2 , 2, 4, 5, 5, 7, 99, 200, 303, 70]\\\n",
        "list_two = [1, 1, 2, 3, 3, 3, 4, 5, 200, 500, -5]\n",
        "\n",
        "Write a Python program that creates a new list with all the **unique elements** of both the given lists.\n",
        "<font color='red'> **You need to make sure that there are no duplicates in the resulting list.**</font> Finally, print the updated list.\n",
        "\n",
        "**Hint:** You may create a third list to store the results. You can use membership operators (in, not in) to make sure no duplicates are added.\n",
        "\n",
        "===================================================================\n",
        "\n",
        "**Output for the above two lists**:\n",
        "[1, 2, 4, 5, 7, 99, 200, 303, 70, 3, 500, -5]\n",
        "\n",
        "===================================================================\n",
        "\n"
      ]
    },
    {
      "cell_type": "code",
      "execution_count": 7,
      "metadata": {
        "id": "LEnaTlyoMJdS",
        "colab": {
          "base_uri": "https://localhost:8080/"
        },
        "outputId": "663751c6-f39e-4e63-f8a8-17e1889da431"
      },
      "outputs": [
        {
          "output_type": "stream",
          "name": "stdout",
          "text": [
            "[1, 2, 4, 5, 7, 99, 200, 303, 70, 3, 500, -5]\n"
          ]
        }
      ],
      "source": [
        "list_one = [1, 2, 2, 4, 5, 5, 7, 99, 200, 303, 70]\n",
        "list_two = [1, 1, 2, 3, 3, 3, 4, 5, 200, 500, -5]\n",
        "list_one.extend(list_two)\n",
        "new_list = []\n",
        "for i in list_one:\n",
        "    if i not in new_list:\n",
        "        new_list.append(i)\n",
        "print(new_list)\n",
        "\n",
        "\n"
      ]
    },
    {
      "cell_type": "markdown",
      "metadata": {
        "id": "bvF30RQlemBW"
      },
      "source": [
        "### Task 8\n",
        "\n",
        "Write a Python program that takes two lists and prints True if they have at least one common member.\n",
        "\n",
        "===================================================================\n",
        "\n",
        "**Sample Input 1:**\\\n",
        "List_one : [1, 4, 3, 2, 6]\\\n",
        "List_two : [5, 6, 9, 8, 7]\n",
        "\n",
        "**Sample Output 1:**\\\n",
        "True\n",
        "\n",
        "===================================================================\n",
        "\n",
        "**Sample Input 2:**\\\n",
        "List_one : [1, 4, 3, 2, 5]\\\n",
        "List_two : [8, 7, 6, 9]\n",
        "\n",
        "**Sample Output 2:**\\\n",
        "False\n",
        "\n",
        "===================================================================\n"
      ]
    },
    {
      "cell_type": "code",
      "execution_count": 9,
      "metadata": {
        "id": "yIlAlqlGe7IA",
        "colab": {
          "base_uri": "https://localhost:8080/"
        },
        "outputId": "35462dc3-cd0c-45c4-fd9b-3c079003845c"
      },
      "outputs": [
        {
          "output_type": "stream",
          "name": "stdout",
          "text": [
            "[1, 4, 3, 2, 5]\n",
            "[8, 7, 6, 9]\n",
            "False\n"
          ]
        }
      ],
      "source": [
        "x = input()\n",
        "listt_one = [int(i) for i in x[1:-1].split(\", \")]\n",
        "y = input()\n",
        "listt_two = [int(i) for i in y[1:-1].split(\", \")]\n",
        "flag = False\n",
        "for i in listt_one:\n",
        "    if i in listt_two:\n",
        "        flag = True\n",
        "if flag:\n",
        "    print(\"True\")\n",
        "else:\n",
        "    print(\"False\")"
      ]
    },
    {
      "cell_type": "markdown",
      "metadata": {
        "id": "vyFt-Ra5erR4"
      },
      "source": [
        "### Task 9\n",
        "\n",
        "Write a Python program that reads 10 numbers into a list and prints the numbers of that specified list after removing **even numbers** from it.\n",
        "\n",
        "=========================================================================\n",
        "\n",
        "**Sample Input:**\n",
        "\n",
        "7,12,4,55,96,2,11,61,33,42\n",
        "\n",
        "**Sample Output:**\n",
        "\n",
        "[7, 55, 11, 61, 33]\n",
        "\n",
        "=========================================================================\n",
        "\n",
        "\n",
        "\n"
      ]
    },
    {
      "cell_type": "code",
      "execution_count": 10,
      "metadata": {
        "id": "1U3bswq9e9B3",
        "colab": {
          "base_uri": "https://localhost:8080/"
        },
        "outputId": "3a1e0aa2-ea1f-40ab-becc-4347fd144acd"
      },
      "outputs": [
        {
          "output_type": "stream",
          "name": "stdout",
          "text": [
            "7,12,4,55,96,2,11,61,33,42\n",
            "[7, 55, 11, 61, 33]\n"
          ]
        }
      ],
      "source": [
        "x = input()\n",
        "listt = [int(i) for i in x.split(\",\")]\n",
        "new_listt = []\n",
        "for i in listt:\n",
        "    if i%2!=0:\n",
        "        new_listt.append(i)\n",
        "print(new_listt)"
      ]
    },
    {
      "cell_type": "markdown",
      "metadata": {
        "id": "G9jPuLWOetqd"
      },
      "source": [
        "### Task 10\n",
        "\n",
        "Write a Python program that removes all Empty strings from a given list and print the new list.\n",
        "\n",
        "=========================================================================\n",
        "\n",
        "**Sample Input:**\n",
        "\n",
        "[\"hey\", \"there\", \" \", \"what's\", \" \", \"up\", \" \", \"?\"]\n",
        "\n",
        "**Sample Output:**\n",
        "\n",
        "Original List:\n",
        "[\"hey\", \"there\", \" \", \"what's\", \" \", \"up\", \" \", \"?\"]\n",
        "\n",
        "Modified List:\n",
        "[\"hey\", \"there\", \"what's\", \"up\", \"?\"]\n",
        "\n",
        "==========================================================================\n",
        "\n",
        "\n"
      ]
    },
    {
      "cell_type": "code",
      "execution_count": null,
      "metadata": {
        "id": "OlrhifBge-TA",
        "outputId": "c06acea6-f215-4aa0-b51b-081199d710a6"
      },
      "outputs": [
        {
          "name": "stdout",
          "output_type": "stream",
          "text": [
            "[\"hey\", \"there\", \" \", \"what's\", \" \", \"up\", \" \", \"?\"]\n",
            "Original List ['hey', 'there', ' ', \"what's\", ' ', 'up', ' ', '?']\n",
            "Modified List ['hey', 'there', \"what's\", 'up', '?']\n"
          ]
        }
      ],
      "source": [
        "x = input()\n",
        "listt = [i for i in x[2:-2].split('\", \"')]\n",
        "new_listt = []\n",
        "for j in listt:\n",
        "    if \" \" not in j:\n",
        "        new_listt.append(j)\n",
        "print(\"Original List\",listt)\n",
        "print(\"Modified List\",new_listt)\n",
        "\n"
      ]
    },
    {
      "cell_type": "markdown",
      "metadata": {
        "id": "UjTy79X6ewce"
      },
      "source": [
        "## Task 11\n",
        "\n",
        "Write a Python program that replaces the last element of first list with second list.\n",
        "\n",
        "===================================================================\n",
        "\n",
        "**Sample Input 1:**\\\n",
        "List_one : [1, 4, 7, 5]\\\n",
        "List_two : [6, 1, 3, 9]\n",
        "\n",
        "**Sample Output 1:**\\\n",
        "[1, 4, 7, 6, 1, 3, 9]\n",
        "\n",
        "===================================================================\n",
        "\n",
        "**Sample Input 2:**\\\n",
        "List_one : [1, 3, 5, 7, 9, 10]\\\n",
        "List_two : [2, 4, 6, 8]\n",
        "\n",
        "**Sample Output 2:**\\\n",
        "[1, 3, 5, 7, 9, 2, 4, 6, 8]\n",
        "\n",
        "===================================================================\n",
        "\n",
        "\n",
        "\n"
      ]
    },
    {
      "cell_type": "code",
      "execution_count": 11,
      "metadata": {
        "id": "bBseKJuse_bX",
        "colab": {
          "base_uri": "https://localhost:8080/"
        },
        "outputId": "09bf76d3-86c8-4339-c09b-69d073864ec9"
      },
      "outputs": [
        {
          "output_type": "stream",
          "name": "stdout",
          "text": [
            "[1, 3, 5, 7, 9, 10]\n",
            "[2, 4, 6, 8]\n",
            "[1, 3, 5, 7, 9, 2, 4, 6, 8]\n"
          ]
        }
      ],
      "source": [
        "x = input()\n",
        "listt_one = [int(i) for i in x[1:-1].split(\", \")]\n",
        "y = input()\n",
        "listt_two = [int(i) for i in y[1:-1].split(\", \")]\n",
        "listt_one.pop()\n",
        "listt_one.extend(listt_two)\n",
        "print(listt_one)\n",
        "\n"
      ]
    },
    {
      "cell_type": "markdown",
      "metadata": {
        "id": "4pBLPmvre0jv"
      },
      "source": [
        "### Task 12\n",
        "\n",
        "Write a Python program that turns every item of a list into its square.\n",
        "\n",
        "===================================================================\n",
        "\n",
        "**Sample Input 1:**\\\n",
        "[1, 2, 3, 4, 5, 6, 7]\n",
        "\n",
        "**Sample Output 1:**\\\n",
        "[1, 4, 9, 16, 25, 36, 49]\n",
        "\n",
        "===================================================================\n",
        "\n",
        "**Sample Input 2:**\\\n",
        "[3, 5, 1, 6]\n",
        "\n",
        "**Sample Output 2:**\\\n",
        "[9, 25, 1, 36]\n",
        "\n",
        "\n",
        "===================================================================\n",
        "\n",
        "\n",
        "\n",
        "\n",
        "\n"
      ]
    },
    {
      "cell_type": "code",
      "execution_count": 12,
      "metadata": {
        "id": "5NDg0odDfANt",
        "colab": {
          "base_uri": "https://localhost:8080/"
        },
        "outputId": "7baa50a0-2975-46a1-c476-7a8421c69a9c"
      },
      "outputs": [
        {
          "output_type": "stream",
          "name": "stdout",
          "text": [
            "[1, 2, 3, 4, 5, 6, 7]\n",
            "[1, 4, 9, 16, 25, 36, 49]\n"
          ]
        }
      ],
      "source": [
        "x = input()\n",
        "listt = [int(i)**2 for i in x[1:-1].split(\", \")]\n",
        "print(listt)\n",
        "\n"
      ]
    },
    {
      "cell_type": "markdown",
      "metadata": {
        "id": "WZXnxHTdGrMC"
      },
      "source": [
        "## Optional Tasks (13-15) [Ungraded]"
      ]
    },
    {
      "cell_type": "markdown",
      "metadata": {
        "id": "lvSiLaobU1zY"
      },
      "source": [
        "### Task 13\n",
        "\n",
        "Write a Python program that reads 5 numbers into a list and prints the smallest and largest number and their locations in the list. <font color='red'>[You are not allowed to use the max(), min(), sort(), sorted() functions here]</font>\n",
        "\n",
        "**Hint:** You may assume the first input to be the largest value initially and the largest value’s location to be 0. Similarly, you can assume the first input to be the smallest value initially and the smallest value’s location to be 0.\n",
        "\n",
        "**Note:** You may need to be careful while printing the output. Depending on your code, you might need data conversion.\n",
        "\n",
        "===================================================================\n",
        "\n",
        "**Sample Input:**\\\n",
        "7, 13, -5, 10, 6\n",
        "\n",
        "**Sample Output:**\\\n",
        "My list: [7, 13, -5, 10, 6]\\\n",
        "Smallest number in the list is -5 which was found at index 2\\\n",
        "Largest number in the list is 13 which was found at index 1\n",
        "\n",
        "==================================================================="
      ]
    },
    {
      "cell_type": "code",
      "execution_count": 13,
      "metadata": {
        "id": "yiS5TWSDU1zY",
        "colab": {
          "base_uri": "https://localhost:8080/"
        },
        "outputId": "0aae411c-29d7-4990-ea1e-d95f726fa7a2"
      },
      "outputs": [
        {
          "output_type": "stream",
          "name": "stdout",
          "text": [
            "7, 13, -5, 10, 6\n",
            "[7, 13, -5, 10, 6]\n",
            "Smallest number in the list is -5 which was found at index 2\n",
            "Largest number in the list is 13 which was found at index 1\n"
          ]
        }
      ],
      "source": [
        "x = input()\n",
        "listt = [int(i) for i in x.split(\", \")]\n",
        "print(listt)\n",
        "maximum = listt[0]\n",
        "max_index = 0\n",
        "minimum = listt[0]\n",
        "min_index = 0\n",
        "for i in range(1,len(listt)):\n",
        "    if(listt[i]<minimum):\n",
        "        minimum = listt[i]\n",
        "        min_index = i\n",
        "    if(listt[i]>maximum):\n",
        "        maximum = listt[i]\n",
        "        max_index = i\n",
        "print(\"Smallest number in the list is\",minimum,\"which was found at index\",min_index)\n",
        "print(\"Largest number in the list is\",maximum,\"which was found at index\",max_index)\n",
        "\n",
        "\n",
        "\n"
      ]
    },
    {
      "cell_type": "markdown",
      "metadata": {
        "id": "rguDZ8SBCHD8"
      },
      "source": [
        "### Task 14\n",
        "Write a Python program that takes two lists as an input from the user. Then print a new list with the **common elements** of both the input lists.\n",
        "\n",
        "*Hint: You may need to create a third list to store the results. You can use membership operators (in, not in) to make sure similar elements are added.*\n",
        "\n",
        "===================================================================\n",
        "\n",
        "**Sample Input 1:**<br/>\n",
        "A, B, C, D\n",
        "\n",
        "\n",
        "C, E , F, B\n",
        "\n",
        "\n",
        "**Sample Output 1:**<br/>\n",
        "['C', 'B']\n",
        "\n",
        "===================================================================\n",
        "\n",
        "**Sample Input 2:**<br/>\n",
        "1, 3, A, H, P\n",
        "\n",
        "\n",
        "A, G, 1, P, O\n",
        "\n",
        "\n",
        "**Sample Output 2:**<br/>\n",
        "['1', 'A', 'P']\n",
        "\n",
        "===================================================================\n"
      ]
    },
    {
      "cell_type": "code",
      "execution_count": 14,
      "metadata": {
        "id": "3iueGiPPGG66",
        "colab": {
          "base_uri": "https://localhost:8080/"
        },
        "outputId": "344ece61-b349-4edb-8344-63b4d791257f"
      },
      "outputs": [
        {
          "output_type": "stream",
          "name": "stdout",
          "text": [
            "1, 3, A, H, P\n",
            "A, G, 1, P, O\n",
            "['1', 'A', 'P']\n"
          ]
        }
      ],
      "source": [
        "x = input()\n",
        "listt_one = [i for i in x.split(\", \")]\n",
        "y = input()\n",
        "listt_two = [i for i in y.split(\", \")]\n",
        "new_listt = []\n",
        "for i in listt_one:\n",
        "    if i in listt_two:\n",
        "        new_listt.append(i)\n",
        "print(new_listt)"
      ]
    },
    {
      "cell_type": "markdown",
      "metadata": {
        "id": "tjcE5oitCM2s"
      },
      "source": [
        "### Task 15\n",
        "\n",
        "\n",
        "Write a Python program that reads 5 numbers into a list and prints the second largest number and its location or index position on the list. <font color='red'>[You are not allowed to use the max(), sort(), sorted() function here]</font>\n",
        "\n",
        "===================================================================\n",
        "\n",
        "**Sample Input:**\\\n",
        " 7, 13, 2, 10, 6\n",
        "\n",
        "**Sample Output:**\\\n",
        "My list: [7, 13, 2, 10, 6]\\\n",
        "Second largest number in the list is 10 which was found at index 3.\n",
        "\n",
        "==================================================================="
      ]
    },
    {
      "cell_type": "code",
      "execution_count": 17,
      "metadata": {
        "id": "b2TwkUqnGZU-",
        "colab": {
          "base_uri": "https://localhost:8080/"
        },
        "outputId": "15088b81-c175-445b-a839-180d5e9960b4"
      },
      "outputs": [
        {
          "output_type": "stream",
          "name": "stdout",
          "text": [
            "Enter number 1: 7\n",
            "Enter number 2: 13\n",
            "Enter number 3: 2\n",
            "Enter number 4: 10\n",
            "Enter number 5: 6\n",
            "My list: [7, 13, 2, 10, 6]\n",
            "Second largest number in the list is 10 which was found at index 3.\n"
          ]
        }
      ],
      "source": [
        "numbers = [0] * 5\n",
        "\n",
        "for i in range(5):\n",
        "    numbers[i] = int(input(f\"Enter number {i + 1}: \"))\n",
        "\n",
        "print(\"My list:\", numbers)\n",
        "\n",
        "largest = 0\n",
        "second_largest = 0\n",
        "\n",
        "for i in range(len(numbers)):\n",
        "    if numbers[i] > largest:\n",
        "        second_largest = largest\n",
        "        largest = numbers[i]\n",
        "    elif numbers[i] > second_largest:\n",
        "        if numbers[i] != largest:\n",
        "            second_largest = numbers[i]\n",
        "\n",
        "if second_largest != 0:\n",
        "    second_largest_index = numbers.index(second_largest)\n",
        "    print(f\"Second largest number in the list is {second_largest} which was found at index {second_largest_index}.\")\n",
        "else:\n",
        "    print(\"There is no second largest number.\")\n"
      ]
    }
  ],
  "metadata": {
    "colab": {
      "provenance": []
    },
    "kernelspec": {
      "display_name": "Python 3",
      "language": "python",
      "name": "python3"
    },
    "language_info": {
      "codemirror_mode": {
        "name": "ipython",
        "version": 3
      },
      "file_extension": ".py",
      "mimetype": "text/x-python",
      "name": "python",
      "nbconvert_exporter": "python",
      "pygments_lexer": "ipython3",
      "version": "3.9.0"
    }
  },
  "nbformat": 4,
  "nbformat_minor": 0
}
